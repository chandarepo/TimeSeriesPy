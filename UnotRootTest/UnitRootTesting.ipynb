{
 "cells": [
  {
   "cell_type": "code",
   "execution_count": 1,
   "metadata": {},
   "outputs": [],
   "source": [
    "#Unit Root Testing\n",
    "import warnings\n",
    "warnings.simplefilter('ignore')\n",
    "\n",
    "%matplotlib inline\n",
    "import matplotlib.pyplot as plt\n",
    "import seaborn\n",
    "\n",
    "seaborn.set_style('darkgrid')\n",
    "plt.rc(\"figure\", figsize=(16, 6))\n",
    "plt.rc(\"savefig\", dpi=90)\n",
    "plt.rc(\"font\",family=\"sans-serif\")\n",
    "plt.rc(\"font\",size=14)"
   ]
  },
  {
   "cell_type": "code",
   "execution_count": 2,
   "metadata": {},
   "outputs": [
    {
     "data": {
      "image/png": "[encoded data removed]",
      "text/plain": [
       "<Figure size 432x288 with 1 Axes>"
      ]
     },
     "metadata": {
      "needs_background": "light"
     },
     "output_type": "display_data"
    }
   ],
   "source": [
    "import pandas as pd\n",
    "import statsmodels.api as sm\n",
    "\n",
    "import arch.data.default\n",
    "\n",
    "default_data = arch.data.default.load()\n",
    "default = default_data.BAA.copy()\n",
    "default.name = 'default'\n",
    "default = default - default_data.AAA.values\n",
    "fig = default.plot()"
   ]
  },
  {
   "cell_type": "code",
   "execution_count": 3,
   "metadata": {},
   "outputs": [
    {
     "data": {
      "image/png": "[encoded data removed]",
      "text/plain": [
       "<Figure size 432x288 with 1 Axes>"
      ]
     },
     "metadata": {
      "needs_background": "light"
     },
     "output_type": "display_data"
    }
   ],
   "source": [
    "acf = pd.DataFrame(sm.tsa.stattools.acf(default), columns=['ACF'])\n",
    "fig = acf[1:].plot(kind='bar', title='Autocorrelations')"
   ]
  },
  {
   "cell_type": "code",
   "execution_count": 4,
   "metadata": {},
   "outputs": [
    {
     "name": "stdout",
     "output_type": "stream",
     "text": [
      "   Augmented Dickey-Fuller Results   \n",
      "=====================================\n",
      "Test Statistic                 -3.356\n",
      "P-value                         0.013\n",
      "Lags                               21\n",
      "-------------------------------------\n",
      "\n",
      "Trend: Constant\n",
      "Critical Values: -3.44 (1%), -2.86 (5%), -2.57 (10%)\n",
      "Null Hypothesis: The process contains a unit root.\n",
      "Alternative Hypothesis: The process is weakly stationary.\n"
     ]
    }
   ],
   "source": [
    "# Augmented Dickey-Fuller Testing\n",
    "\n",
    "#The Augmented Dickey-Fuller test is the most common unit root test used. \n",
    "# It is a regression of the first difference of the variable on its lagged \n",
    "# level as well as additional lags of the first difference. The null \n",
    "# is that the series contains a unit root, and the (one-sided) alternative is that the series is stationary.\n",
    "\n",
    "#By default, the number of lags is selected by minimizing the AIC across \n",
    "# a range of lag lengths (which can be set using max_lag when initializing the model). \n",
    "# Additionally, the basic test includes a constant in the ADF regression.\n",
    "\n",
    "#These results indicate that the Default premium is stationary.\n",
    "\n",
    "from arch.unitroot import ADF\n",
    "\n",
    "adf = ADF(default)\n",
    "print(adf.summary().as_text())"
   ]
  },
  {
   "cell_type": "code",
   "execution_count": 9,
   "metadata": {},
   "outputs": [
    {
     "name": "stdout",
     "output_type": "stream",
     "text": [
      "   Augmented Dickey-Fuller Results   \n",
      "=====================================\n",
      "Test Statistic                 -3.582\n",
      "P-value                         0.006\n",
      "Lags                                5\n",
      "-------------------------------------\n",
      "\n",
      "Trend: Constant\n",
      "Critical Values: -3.44 (1%), -2.86 (5%), -2.57 (10%)\n",
      "Null Hypothesis: The process contains a unit root.\n",
      "Alternative Hypothesis: The process is weakly stationary.\n"
     ]
    }
   ],
   "source": [
    "# Setting the number of lags\n",
    "adf.lags = 5\n",
    "print(adf.summary().as_text())"
   ]
  },
  {
   "cell_type": "code",
   "execution_count": 10,
   "metadata": {},
   "outputs": [
    {
     "name": "stdout",
     "output_type": "stream",
     "text": [
      "   Augmented Dickey-Fuller Results   \n",
      "=====================================\n",
      "Test Statistic                 -3.786\n",
      "P-value                         0.017\n",
      "Lags                                5\n",
      "-------------------------------------\n",
      "\n",
      "Trend: Constant and Linear Time Trend\n",
      "Critical Values: -3.97 (1%), -3.41 (5%), -3.13 (10%)\n",
      "Null Hypothesis: The process contains a unit root.\n",
      "Alternative Hypothesis: The process is weakly stationary.\n"
     ]
    }
   ],
   "source": [
    "# The deterministic terms can be altered using trend. The options are:\n",
    "\n",
    "# 'nc' : No deterministic terms\n",
    "# 'c' : Constant only\n",
    "# 'ct' : Constant and time trend\n",
    "# 'ctt' : Constant, time trend and time-trend squared\n",
    "\n",
    "adf.trend = 'ct'\n",
    "print(adf.summary().as_text())"
   ]
  },
  {
   "cell_type": "code",
   "execution_count": 11,
   "metadata": {},
   "outputs": [
    {
     "name": "stdout",
     "output_type": "stream",
     "text": [
      "                            OLS Regression Results                            \n",
      "==============================================================================\n",
      "Dep. Variable:                      y   R-squared:                       0.095\n",
      "Model:                            OLS   Adj. R-squared:                  0.090\n",
      "Method:                 Least Squares   F-statistic:                     17.83\n",
      "Date:                Mon, 08 Jun 2020   Prob (F-statistic):           1.30e-22\n",
      "Time:                        09:22:03   Log-Likelihood:                 630.15\n",
      "No. Observations:                1194   AIC:                            -1244.\n",
      "Df Residuals:                    1186   BIC:                            -1204.\n",
      "Df Model:                           7                                         \n",
      "Covariance Type:            nonrobust                                         \n",
      "==============================================================================\n",
      "                 coef    std err          t      P>|t|      [0.025      0.975]\n",
      "------------------------------------------------------------------------------\n",
      "Level.L1      -0.0248      0.007     -3.786      0.000      -0.038      -0.012\n",
      "Diff.L1        0.2229      0.029      7.669      0.000       0.166       0.280\n",
      "Diff.L2       -0.0525      0.030     -1.769      0.077      -0.111       0.006\n",
      "Diff.L3       -0.1363      0.029     -4.642      0.000      -0.194      -0.079\n",
      "Diff.L4       -0.0510      0.030     -1.727      0.084      -0.109       0.007\n",
      "Diff.L5        0.0440      0.029      1.516      0.130      -0.013       0.101\n",
      "const          0.0383      0.013      2.858      0.004       0.012       0.065\n",
      "trend      -1.586e-05   1.29e-05     -1.230      0.219   -4.11e-05    9.43e-06\n",
      "==============================================================================\n",
      "Omnibus:                      665.553   Durbin-Watson:                   2.000\n",
      "Prob(Omnibus):                  0.000   Jarque-Bera (JB):           146083.295\n",
      "Skew:                          -1.425   Prob(JB):                         0.00\n",
      "Kurtosis:                      57.113   Cond. No.                     5.70e+03\n",
      "==============================================================================\n",
      "\n",
      "Warnings:\n",
      "[1] Standard Errors assume that the covariance matrix of the errors is correctly specified.\n",
      "[2] The condition number is large, 5.7e+03. This might indicate that there are\n",
      "strong multicollinearity or other numerical problems.\n"
     ]
    }
   ],
   "source": [
    "reg_res = adf.regression\n",
    "print(reg_res.summary().as_text())"
   ]
  },
  {
   "cell_type": "code",
   "execution_count": 12,
   "metadata": {},
   "outputs": [
    {
     "data": {
      "image/png": "[encoded data removed]",
      "text/plain": [
       "<Figure size 432x288 with 1 Axes>"
      ]
     },
     "metadata": {
      "needs_background": "light"
     },
     "output_type": "display_data"
    }
   ],
   "source": [
    "import matplotlib.pyplot as plt\n",
    "import pandas as pd\n",
    "\n",
    "resids = pd.DataFrame(reg_res.resid)\n",
    "resids.index = default.index[6:]\n",
    "resids.columns = ['resids']\n",
    "fig = resids.plot()"
   ]
  },
  {
   "cell_type": "code",
   "execution_count": 13,
   "metadata": {},
   "outputs": [
    {
     "data": {
      "image/png": "[encoded data removed]",
      "text/plain": [
       "<Figure size 432x288 with 1 Axes>"
      ]
     },
     "metadata": {
      "needs_background": "light"
     },
     "output_type": "display_data"
    }
   ],
   "source": [
    "# Since the number lags was directly set, it is good to check whether the residuals appear to be white noise.\n",
    "acf = pd.DataFrame(sm.tsa.stattools.acf(reg_res.resid), columns=['ACF'])\n",
    "fig = acf[1:].plot(kind='bar', title='Residual Autocorrelations')"
   ]
  },
  {
   "cell_type": "code",
   "execution_count": 14,
   "metadata": {},
   "outputs": [
    {
     "name": "stdout",
     "output_type": "stream",
     "text": [
      "      Dickey-Fuller GLS Results      \n",
      "=====================================\n",
      "Test Statistic                 -2.322\n",
      "P-value                         0.020\n",
      "Lags                               21\n",
      "-------------------------------------\n",
      "\n",
      "Trend: Constant\n",
      "Critical Values: -2.59 (1%), -1.96 (5%), -1.64 (10%)\n",
      "Null Hypothesis: The process contains a unit root.\n",
      "Alternative Hypothesis: The process is weakly stationary.\n"
     ]
    }
   ],
   "source": [
    "# Dickey-Fuller GLS Testing\n",
    "\n",
    "# The Dickey-Fuller GLS test is an improved version of the ADF which uses a GLS-detrending \n",
    "# regression before running an ADF regression with no additional deterministic terms. \n",
    "# This test is only available with a constant or constant and time trend (trend='c' or trend='ct').\n",
    "\n",
    "# The results of this test agree with the ADF results.\n",
    "\n",
    "from arch.unitroot import DFGLS\n",
    "\n",
    "dfgls = DFGLS(default)\n",
    "print(dfgls.summary().as_text())"
   ]
  },
  {
   "cell_type": "code",
   "execution_count": 15,
   "metadata": {},
   "outputs": [
    {
     "name": "stdout",
     "output_type": "stream",
     "text": [
      "      Dickey-Fuller GLS Results      \n",
      "=====================================\n",
      "Test Statistic                 -3.464\n",
      "P-value                         0.009\n",
      "Lags                               21\n",
      "-------------------------------------\n",
      "\n",
      "Trend: Constant and Linear Time Trend\n",
      "Critical Values: -3.43 (1%), -2.86 (5%), -2.58 (10%)\n",
      "Null Hypothesis: The process contains a unit root.\n",
      "Alternative Hypothesis: The process is weakly stationary.\n"
     ]
    }
   ],
   "source": [
    "dfgls.trend = 'ct'\n",
    "print(dfgls.summary().as_text())"
   ]
  },
  {
   "cell_type": "code",
   "execution_count": 16,
   "metadata": {},
   "outputs": [
    {
     "name": "stdout",
     "output_type": "stream",
     "text": [
      "     Phillips-Perron Test (Z-tau)    \n",
      "=====================================\n",
      "Test Statistic                 -3.898\n",
      "P-value                         0.002\n",
      "Lags                               23\n",
      "-------------------------------------\n",
      "\n",
      "Trend: Constant\n",
      "Critical Values: -3.44 (1%), -2.86 (5%), -2.57 (10%)\n",
      "Null Hypothesis: The process contains a unit root.\n",
      "Alternative Hypothesis: The process is weakly stationary.\n"
     ]
    }
   ],
   "source": [
    "# Phillips-Perron Testing\n",
    "#The Phillips-Perron test is similar to the ADF except that the regression run does not \n",
    "#include lagged values of the first differences. Instead, the PP test fixed the \n",
    "#t-statistic using a long run variance estimation, implemented using a Newey-West covariance estimator.\n",
    "\n",
    "# By default, the number of lags is automatically set, although this can be overridden using lags.\n",
    "\n",
    "from arch.unitroot import PhillipsPerron\n",
    "\n",
    "pp = PhillipsPerron(default)\n",
    "print(pp.summary().as_text())"
   ]
  },
  {
   "cell_type": "code",
   "execution_count": 17,
   "metadata": {},
   "outputs": [
    {
     "name": "stdout",
     "output_type": "stream",
     "text": [
      "     Phillips-Perron Test (Z-tau)    \n",
      "=====================================\n",
      "Test Statistic                 -4.024\n",
      "P-value                         0.001\n",
      "Lags                               12\n",
      "-------------------------------------\n",
      "\n",
      "Trend: Constant\n",
      "Critical Values: -3.44 (1%), -2.86 (5%), -2.57 (10%)\n",
      "Null Hypothesis: The process contains a unit root.\n",
      "Alternative Hypothesis: The process is weakly stationary.\n"
     ]
    }
   ],
   "source": [
    "pp.lags = 12\n",
    "print(pp.summary().as_text())"
   ]
  },
  {
   "cell_type": "code",
   "execution_count": 18,
   "metadata": {},
   "outputs": [
    {
     "name": "stdout",
     "output_type": "stream",
     "text": [
      "     Phillips-Perron Test (Z-tau)    \n",
      "=====================================\n",
      "Test Statistic                 -4.262\n",
      "P-value                         0.004\n",
      "Lags                               12\n",
      "-------------------------------------\n",
      "\n",
      "Trend: Constant and Linear Time Trend\n",
      "Critical Values: -3.97 (1%), -3.41 (5%), -3.13 (10%)\n",
      "Null Hypothesis: The process contains a unit root.\n",
      "Alternative Hypothesis: The process is weakly stationary.\n"
     ]
    }
   ],
   "source": [
    "pp.trend = 'ct'\n",
    "print(pp.summary().as_text())"
   ]
  },
  {
   "cell_type": "code",
   "execution_count": 19,
   "metadata": {},
   "outputs": [
    {
     "name": "stdout",
     "output_type": "stream",
     "text": [
      "     Phillips-Perron Test (Z-rho)    \n",
      "=====================================\n",
      "Test Statistic                -36.114\n",
      "P-value                         0.000\n",
      "Lags                               12\n",
      "-------------------------------------\n",
      "\n",
      "Trend: Constant and Linear Time Trend\n",
      "Critical Values: -29.16 (1%), -21.60 (5%), -18.17 (10%)\n",
      "Null Hypothesis: The process contains a unit root.\n",
      "Alternative Hypothesis: The process is weakly stationary.\n"
     ]
    }
   ],
   "source": [
    "# PP testing framework includes two types of tests. \n",
    "# One which uses an ADF-type regression of the first difference on the level, \n",
    "# the other which regresses the level on the level. \n",
    "# The default is the tau test, which is similar to an ADF regression, \n",
    "# although this can be changed using test_type='rho'.\n",
    "\n",
    "pp.test_type = 'rho'\n",
    "print(pp.summary().as_text())"
   ]
  },
  {
   "cell_type": "code",
   "execution_count": 22,
   "metadata": {},
   "outputs": [
    {
     "name": "stdout",
     "output_type": "stream",
     "text": [
      "    KPSS Stationarity Test Results   \n",
      "=====================================\n",
      "Test Statistic                  1.088\n",
      "P-value                         0.002\n",
      "Lags                               20\n",
      "-------------------------------------\n",
      "\n",
      "Trend: Constant\n",
      "Critical Values: 0.74 (1%), 0.46 (5%), 0.35 (10%)\n",
      "Null Hypothesis: The process is weakly stationary.\n",
      "Alternative Hypothesis: The process contains a unit root.\n"
     ]
    }
   ],
   "source": [
    "#KPSS Testing\n",
    "\n",
    "# The KPSS test differs from the three previous in that the null is a stationary \n",
    "# process and the alternative is a unit root.\n",
    "\n",
    "#  Note that here the null is rejected which indicates that the series might be a unit root.\n",
    "from arch.unitroot import KPSS\n",
    "\n",
    "kpss = KPSS(default)\n",
    "print(kpss.summary().as_text())"
   ]
  },
  {
   "cell_type": "code",
   "execution_count": 23,
   "metadata": {},
   "outputs": [
    {
     "name": "stdout",
     "output_type": "stream",
     "text": [
      "    KPSS Stationarity Test Results   \n",
      "=====================================\n",
      "Test Statistic                  0.393\n",
      "P-value                         0.000\n",
      "Lags                               20\n",
      "-------------------------------------\n",
      "\n",
      "Trend: Constant and Linear Time Trend\n",
      "Critical Values: 0.22 (1%), 0.15 (5%), 0.12 (10%)\n",
      "Null Hypothesis: The process is weakly stationary.\n",
      "Alternative Hypothesis: The process contains a unit root.\n"
     ]
    }
   ],
   "source": [
    "#Changing the trend does not alter the conclusion.\n",
    "kpss.trend = 'ct'\n",
    "print(kpss.summary().as_text())"
   ]
  },
  {
   "cell_type": "code",
   "execution_count": 24,
   "metadata": {},
   "outputs": [
    {
     "name": "stdout",
     "output_type": "stream",
     "text": [
      "        Zivot-Andrews Results        \n",
      "=====================================\n",
      "Test Statistic                 -4.900\n",
      "P-value                         0.040\n",
      "Lags                               21\n",
      "-------------------------------------\n",
      "\n",
      "Trend: Constant\n",
      "Critical Values: -5.28 (1%), -4.81 (5%), -4.57 (10%)\n",
      "Null Hypothesis: The process contains a unit root with a single structural break.\n",
      "Alternative Hypothesis: The process is trend and break stationary.\n"
     ]
    }
   ],
   "source": [
    "# Zivot-Andrews TesT\n",
    "\n",
    "# The Zivot-Andrews test allows the possibility of a single structural break in the series. \n",
    "# Here we test the default using the test.\n",
    "\n",
    "from arch.unitroot import ZivotAndrews\n",
    "\n",
    "za = ZivotAndrews(default)\n",
    "print(za.summary().as_text())"
   ]
  },
  {
   "cell_type": "code",
   "execution_count": 25,
   "metadata": {},
   "outputs": [
    {
     "name": "stdout",
     "output_type": "stream",
     "text": [
      "            Mkt-RF          SMB          HML           RF\n",
      "count  1109.000000  1109.000000  1109.000000  1109.000000\n",
      "mean      0.659946     0.206555     0.368864     0.274220\n",
      "std       5.327524     3.191132     3.482352     0.253377\n",
      "min     -29.130000   -16.870000   -13.280000    -0.060000\n",
      "25%      -1.970000    -1.560000    -1.320000     0.030000\n",
      "50%       1.020000     0.070000     0.140000     0.230000\n",
      "75%       3.610000     1.730000     1.740000     0.430000\n",
      "max      38.850000    36.700000    35.460000     1.350000\n"
     ]
    }
   ],
   "source": [
    "# Variance Ratio Testing\n",
    "\n",
    "# Variance ratio tests are not usually used as unit root tests, \n",
    "# and are instead used for testing whether a financial return \n",
    "# series is a pure random walk versus having some predictability. \n",
    "\n",
    "import numpy as np\n",
    "import pandas as pd\n",
    "import arch.data.frenchdata\n",
    "ff = arch.data.frenchdata.load()\n",
    "excess_market = ff.iloc[:, 0]  # Excess Market\n",
    "print(ff.describe())"
   ]
  },
  {
   "cell_type": "code",
   "execution_count": 26,
   "metadata": {},
   "outputs": [
    {
     "name": "stdout",
     "output_type": "stream",
     "text": [
      "     Variance-Ratio Test Results     \n",
      "=====================================\n",
      "Test Statistic                 -5.029\n",
      "P-value                         0.000\n",
      "Lags                               12\n",
      "-------------------------------------\n",
      "\n",
      "Computed with overlapping blocks (de-biased)\n"
     ]
    }
   ],
   "source": [
    "# The variance ratio compares the variance of a 1-period return to that of a multi-period return. The comparison length has to be set when initializing the test.\n",
    "\n",
    "# compares 1-month to 12-month returns, and the null that the series is a pure random walk is rejected. Negative values indicate some positive autocorrelation in the returns (momentum).\n",
    "\n",
    "\n",
    "from arch.unitroot import VarianceRatio\n",
    "vr = VarianceRatio(excess_market, 12)\n",
    "print(vr.summary().as_text())"
   ]
  },
  {
   "cell_type": "code",
   "execution_count": 27,
   "metadata": {
    "scrolled": true
   },
   "outputs": [
    {
     "name": "stdout",
     "output_type": "stream",
     "text": [
      "     Variance-Ratio Test Results     \n",
      "=====================================\n",
      "Test Statistic                 -6.206\n",
      "P-value                         0.000\n",
      "Lags                               12\n",
      "-------------------------------------\n",
      "\n",
      "Computed with non-overlapping blocks\n"
     ]
    },
    {
     "name": "stderr",
     "output_type": "stream",
     "text": [
      "/usr/local/lib/python3.7/site-packages/arch/unitroot/unitroot.py:1657: FutureWarning: Mutating unit root tests is deprecated and will raise an error in the first release of arch 5.x after August 2020. Create new test objects to change test parametrization.\n",
      "\n",
      "  warnings.warn(MUTATING_WARNING, FutureWarning)\n",
      "/usr/local/lib/python3.7/site-packages/arch/unitroot/unitroot.py:1706: InvalidLengthWarning: \n",
      "The length of y is not an exact multiple of 12, and so the final\n",
      "4 observations have been dropped.\n",
      "\n",
      "  InvalidLengthWarning,\n"
     ]
    }
   ],
   "source": [
    "warnings.simplefilter('always')  # Restore warnings\n",
    "\n",
    "vr.overlap = False\n",
    "print(vr.summary().as_text())"
   ]
  },
  {
   "cell_type": "code",
   "execution_count": null,
   "metadata": {},
   "outputs": [],
   "source": []
  }
 ],
 "metadata": {
  "kernelspec": {
   "display_name": "Python 3",
   "language": "python",
   "name": "python3"
  },
  "language_info": {
   "codemirror_mode": {
    "name": "ipython",
    "version": 3
   },
   "file_extension": ".py",
   "mimetype": "text/x-python",
   "name": "python",
   "nbconvert_exporter": "python",
   "pygments_lexer": "ipython3",
   "version": "3.7.7"
  }
 },
 "nbformat": 4,
 "nbformat_minor": 2
}
