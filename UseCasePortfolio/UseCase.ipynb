{
 "cells": [
  {
   "cell_type": "code",
   "execution_count": 1,
   "metadata": {},
   "outputs": [],
   "source": [
    "import scipy as sp\n",
    "import numpy as np\n",
    "import time\n",
    "import multiprocessing \n",
    "\n",
    "from scipy.linalg import eigh, cholesky\n",
    "from scipy.stats import norm\n",
    "\n",
    "from pylab import plot, show, axis, subplot, xlabel, ylabel, grid"
   ]
  },
  {
   "cell_type": "code",
   "execution_count": 119,
   "metadata": {},
   "outputs": [],
   "source": [
    "#x=sp.random.standard_normal(size=1000000)\n",
    "#y=sp.random.standard_normal(size=1000000)\n",
    "#z=sp.random.standard_normal(size=(100,100,100))\n",
    "#mu, sigma = 0, 0.1 # mean and standard deviation\n",
    "#abs(mu - np.mean(x)) < 0.01\n",
    "#abs(sigma - np.std(x, ddof=1)) < 0.01\n",
    "#x = norm.rvs(size=(num_streams, num_samples))"
   ]
  },
  {
   "cell_type": "code",
   "execution_count": 120,
   "metadata": {},
   "outputs": [],
   "source": []
  },
  {
   "cell_type": "code",
   "execution_count": null,
   "metadata": {},
   "outputs": [],
   "source": []
  },
  {
   "cell_type": "code",
   "execution_count": 2,
   "metadata": {},
   "outputs": [],
   "source": [
    "# Choice of cholesky or eigenvector method.\n",
    "method = 'cholesky'\n",
    "num_samples = 1000000\n",
    "num_streams = 3\n",
    "# The desired covariance matrix.\n",
    "r = np.array([\n",
    "        [  1, 0.75, 0.5],\n",
    "        [ 0.75, 1, 0.75],\n",
    "        [ 0.5, 0.75,  1]\n",
    "    ])"
   ]
  },
  {
   "cell_type": "code",
   "execution_count": 3,
   "metadata": {},
   "outputs": [],
   "source": [
    "# Generate samples from three independent normally distributed random variables (with mean 0 and std. dev. 1).\n",
    "\n",
    "#generate 3 streams (A, B, C) of 1,000,000 independent random number \n",
    "#simulations following standard normal distribution\n",
    "\n",
    "def getRandomNumberWithStandardNormalDistribution(num_streams,num_samples):\n",
    "    return sp.random.standard_normal(size=(num_streams, num_samples))\n",
    "\n",
    "ABC = getRandomNumberWithStandardNormalDistribution(num_streams, num_samples)"
   ]
  },
  {
   "cell_type": "code",
   "execution_count": 4,
   "metadata": {},
   "outputs": [],
   "source": [
    "# We need a matrix `c` for which `c*c^T = r`.  We can use, for example,\n",
    "# the Cholesky decomposition, or the we can construct `c` from the\n",
    "# eigenvectors and eigenvalues.\n",
    "\n",
    "def getCorrelatedRandomVariables(streams):   \n",
    "    if method == 'cholesky':\n",
    "        # Compute the Cholesky decomposition.\n",
    "        c = cholesky(r, lower=True)\n",
    "    else:\n",
    "        # Compute the eigenvalues and eigenvectors.\n",
    "        evals, evecs = eigh(r)\n",
    "        # Construct c, so c*c^T = r.\n",
    "        c = np.dot(evecs, np.diag(np.sqrt(evals)))\n",
    "    return np.dot(c, streams)\n",
    "\n",
    "# Convert the data to correlated random variables. \n",
    "y = getCorrelatedRandomVariables (ABC)"
   ]
  },
  {
   "cell_type": "code",
   "execution_count": 5,
   "metadata": {},
   "outputs": [
    {
     "data": {
      "image/png": "[encoded data removed]",
      "text/plain": [
       "<Figure size 432x288 with 3 Axes>"
      ]
     },
     "metadata": {
      "needs_background": "light"
     },
     "output_type": "display_data"
    }
   ],
   "source": [
    "#\n",
    "# Plot various projections of the samples.\n",
    "#\n",
    "subplot(2,2,1)\n",
    "plot(y[0], y[1], 'b.')\n",
    "#xlabel('y[0]')\n",
    "ylabel('y[1]')\n",
    "axis('equal')\n",
    "grid(True)\n",
    "\n",
    "subplot(2,2,3)\n",
    "plot(y[0], y[2], 'b.')\n",
    "xlabel('y[0]')\n",
    "ylabel('y[2]')\n",
    "axis('equal')\n",
    "grid(True)\n",
    "\n",
    "subplot(2,2,4)\n",
    "plot(y[1], y[2], 'b.')\n",
    "xlabel('y[1]')\n",
    "#ylabel('y[2]')\n",
    "axis('equal')\n",
    "grid(True)\n",
    "\n",
    "show()"
   ]
  },
  {
   "cell_type": "code",
   "execution_count": 7,
   "metadata": {},
   "outputs": [],
   "source": [
    "#Define and set correlation of A (R_A) = 10%, R_B = 25%, R_C = 40%\n",
    "R_A , R_B, R_C = 0.1, 0.25, 0.4\n",
    "R_A_, R_B_, R_C_ = np.sqrt(1- R_A * R_A ),np.sqrt(1- R_B * R_B ),np.sqrt(1- R_C * R_C)\n"
   ]
  },
  {
   "cell_type": "code",
   "execution_count": 8,
   "metadata": {},
   "outputs": [],
   "source": [
    "# For each simulation, define value of A (V_A) and calculate V_A = SQRT(1 - R_A**2) *\n",
    "# Independent random number from (a) + R_A * Correlated random number \n",
    "# from (b) for the entire 1,000,000 simulations. Do the same for B and C. \n",
    "# [Check: Resultant array would be of the size of [3 columns x 1,000,000 rows]\n",
    "\n",
    "V_A = np.dot(np.array([ R_A, R_A_]), np.array([y[0], ABC[0]]))\n",
    "V_B = np.dot(np.array([ R_B, R_B_]), np.array([y[1], ABC[1]]))\n",
    "V_C = np.dot(np.array([ R_C, R_C_]), np.array([y[2], ABC[2]]))"
   ]
  },
  {
   "cell_type": "code",
   "execution_count": 9,
   "metadata": {},
   "outputs": [],
   "source": [
    "V_All = np.array([V_A,V_B, V_C])"
   ]
  },
  {
   "cell_type": "code",
   "execution_count": 10,
   "metadata": {},
   "outputs": [],
   "source": [
    "#Define Probability of Default of A (PD_A) = 1%, PD_B = 10% and PD_C = 50%\n",
    "PD_A,PD_B,PD_C =0.01, 0.1, 0.5\n",
    "PD_ALL = np.array([PD_A,PD_B, PD_C])"
   ]
  },
  {
   "cell_type": "code",
   "execution_count": 11,
   "metadata": {},
   "outputs": [],
   "source": [
    "#Calculate a default threshold using the formula for A, B and C. \n",
    "#Default threshold of A (DT_A) =  Inverse of standard normal cumulative distribution of (PD_A) \n",
    "# [Hint: Excel formula is NORMSINV(PD)]. Do the same for B and C.\n",
    "\n",
    "import math\n",
    "\n",
    "def rational_approximation(t):\n",
    "    # Abramowitz and Stegun formula 26.2.23.\n",
    "    # The absolute value of the error should be less than 4.5 e-4.\n",
    "    c = [2.515517, 0.802853, 0.010328]\n",
    "    d = [1.432788, 0.189269, 0.001308]\n",
    "    numerator = (c[2]*t + c[1])*t + c[0]\n",
    "    denominator = ((d[2]*t + d[1])*t + d[0])*t + 1.0\n",
    "    return t - numerator / denominator\n",
    "\n",
    "def normal_CDF_inverse(p):\n",
    "    assert p > 0.0 and p < 1\n",
    "    #  reference https://www.johndcook.com/blog/normal_cdf_inverse/.\n",
    "    if p < 0.5:\n",
    "        # F^-1(p) = - G^-1(p)\n",
    "        return -rational_approximation( math.sqrt(-2.0*math.log(p)) )\n",
    "    else:\n",
    "        # F^-1(p) = G^-1(1-p)\n",
    "        return rational_approximation( math.sqrt(-2.0*math.log(1.0-p)) )\n"
   ]
  },
  {
   "cell_type": "code",
   "execution_count": 13,
   "metadata": {},
   "outputs": [
    {
     "data": {
      "text/plain": [
       "[-2.326785332558966, -1.281728756502709, -1.0100667546808495e-07]"
      ]
     },
     "execution_count": 13,
     "metadata": {},
     "output_type": "execute_result"
    }
   ],
   "source": [
    "DT_ALL = []\n",
    "for i in range(len(PD_ALL)):\n",
    "    DT_A = normal_CDF_inverse(PD_ALL[i])\n",
    "    DT_ALL.append(DT_A)\n",
    "DT_ALL"
   ]
  },
  {
   "cell_type": "code",
   "execution_count": 14,
   "metadata": {},
   "outputs": [
    {
     "name": "stdout",
     "output_type": "stream",
     "text": [
      "--- 16623 L_A ---\n",
      "--- 132106 L_B ---\n",
      "--- 499917 L_C ---\n",
      "--- 0.6999711990356445 seconds ---\n",
      "--- 648646 totalLoss ---\n"
     ]
    }
   ],
   "source": [
    "# Define and set loss of A (L_A) = 0. In each simulation, if Value(V_A) < default threshold (DT_A),\n",
    "# add a counter to loss. Calculate the loss for B(L_B) and C(L_C) separately. \n",
    "# Calculate the total loss (T) = (L_A + L_B + L_C).\n",
    "\n",
    "start_time = time.time()\n",
    "L_A, L_B, L_C = 0,0,0\n",
    "\n",
    "def calculate_loss(V_A, DT_A, L_A):\n",
    "    for i in range (len(V_A)):\n",
    "        if V_A[i] < DT_A:\n",
    "            L_A= L_A+1\n",
    "    return L_A\n",
    "\n",
    "L_A = calculate_loss (V_A, DT_ALL[0], L_A)\n",
    "L_B = calculate_loss (V_B, DT_ALL[1], L_B)\n",
    "L_C = calculate_loss (V_C, DT_ALL[2], L_C)\n",
    "totalLoss = L_A+L_B+L_C\n",
    "totalTime = (time.time() - start_time)\n",
    "\n",
    "print(\"--- %s L_A ---\" % L_A)\n",
    "print(\"--- %s L_B ---\" % L_B)\n",
    "print(\"--- %s L_C ---\" % L_C)\n",
    "\n",
    "print(\"--- %s seconds ---\" % totalTime)\n",
    "print(\"--- %s totalLoss ---\" % totalLoss)"
   ]
  },
  {
   "cell_type": "code",
   "execution_count": 17,
   "metadata": {},
   "outputs": [],
   "source": [
    "def calculate_loss_parallel_chunk(V_A,  DT_A):\n",
    "    loss =0\n",
    "    for i in range (len(V_A)):\n",
    "        if V_A[i] < DT_A:\n",
    "            loss= loss+1\n",
    "    return loss\n",
    "\n",
    "def calculate_loss_parallel(V_A,  DT_A):\n",
    "    pool = multiprocessing.Pool() \n",
    "    chunks =10\n",
    "    parts = np.split(V_A, chunks)\n",
    "    parallel_loss =0\n",
    "    for part in parts:\n",
    "        part_loss = pool.apply_async(calculate_loss_parallel_chunk, args = (part, DT_A ))\n",
    "        parallel_loss = parallel_loss+ part_loss.get()\n",
    "    return parallel_loss\n"
   ]
  },
  {
   "cell_type": "code",
   "execution_count": 19,
   "metadata": {},
   "outputs": [
    {
     "data": {
      "text/plain": [
       "0.8754019737243652"
      ]
     },
     "execution_count": 19,
     "metadata": {},
     "output_type": "execute_result"
    }
   ],
   "source": [
    "def calculateTime_loss_parallel():\n",
    "    start_time_parallel = time.time()\n",
    "    for i in range(3):\n",
    "        LossParallel= calculate_loss_parallel (V_All[i], DT_ALL[i])\n",
    "        print (LossParallel)\n",
    "    totalTime_parallel = (time.time() - start_time_parallel)\n",
    "    return totalTime_parallel\n",
    "\n",
    "calculateTime_loss_parallel()\n"
   ]
  },
  {
   "cell_type": "code",
   "execution_count": null,
   "metadata": {},
   "outputs": [],
   "source": []
  }
 ],
 "metadata": {
  "kernelspec": {
   "display_name": "Python 3",
   "language": "python",
   "name": "python3"
  },
  "language_info": {
   "codemirror_mode": {
    "name": "ipython",
    "version": 3
   },
   "file_extension": ".py",
   "mimetype": "text/x-python",
   "name": "python",
   "nbconvert_exporter": "python",
   "pygments_lexer": "ipython3",
   "version": "3.7.7"
  }
 },
 "nbformat": 4,
 "nbformat_minor": 2
}
