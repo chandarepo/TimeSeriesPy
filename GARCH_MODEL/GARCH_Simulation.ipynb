{
 "cells": [
  {
   "cell_type": "code",
   "execution_count": 1,
   "metadata": {},
   "outputs": [],
   "source": [
    "# Volatility Scenarios : \n",
    "# Example \n",
    "# The scenario - Financial Crisis of 2008\n",
    "%matplotlib inline\n",
    "import matplotlib.pyplot as plt\n",
    "import numpy as np\n",
    "import pandas as pd\n",
    "import seaborn as sns\n",
    "\n",
    "from arch.univariate import GARCH, ConstantMean, Normal\n",
    "\n",
    "%matplotlib inline\n",
    "import matplotlib.pyplot as plt\n",
    "\n",
    "sns.set_style('darkgrid')\n",
    "plt.rc(\"figure\", figsize=(16, 6))\n",
    "plt.rc(\"savefig\", dpi=90)\n",
    "plt.rc(\"font\",family=\"sans-serif\")\n",
    "plt.rc(\"font\",size=14)"
   ]
  },
  {
   "cell_type": "code",
   "execution_count": 2,
   "metadata": {},
   "outputs": [
    {
     "name": "stdout",
     "output_type": "stream",
     "text": [
      "Date\n",
      "1999-01-04    2208.050049\n",
      "1999-01-05    2251.270020\n",
      "1999-01-06    2320.860107\n",
      "1999-01-07    2326.090088\n",
      "1999-01-08    2344.409912\n",
      "Name: Adj Close, dtype: float64\n"
     ]
    }
   ],
   "source": [
    "\n",
    "import arch.data.nasdaq\n",
    "\n",
    "data = arch.data.nasdaq.load()\n",
    "nasdaq = data['Adj Close']\n",
    "print(nasdaq.head())"
   ]
  },
  {
   "cell_type": "code",
   "execution_count": 3,
   "metadata": {},
   "outputs": [],
   "source": [
    "\n",
    "rets = 100 * nasdaq.pct_change().dropna()\n",
    "\n",
    "# Build components to set the state for the distribution\n",
    "random_state = np.random.RandomState(1)\n",
    "dist = Normal(random_state=random_state)\n",
    "volatility = GARCH(1, 1, 1)\n",
    "\n",
    "mod = ConstantMean(rets, volatility=volatility, distribution=dist)"
   ]
  },
  {
   "cell_type": "code",
   "execution_count": 4,
   "metadata": {},
   "outputs": [
    {
     "data": {
      "text/plain": [
       "                   Constant Mean - GJR-GARCH Model Results                    \n",
       "==============================================================================\n",
       "Dep. Variable:              Adj Close   R-squared:                      -0.000\n",
       "Mean Model:             Constant Mean   Adj. R-squared:                 -0.000\n",
       "Vol Model:                  GJR-GARCH   Log-Likelihood:               -8196.75\n",
       "Distribution:                  Normal   AIC:                           16403.5\n",
       "Method:            Maximum Likelihood   BIC:                           16436.1\n",
       "                                        No. Observations:                 5030\n",
       "Date:                Mon, Jun 08 2020   Df Residuals:                     5025\n",
       "Time:                        09:50:32   Df Model:                            5\n",
       "                                 Mean Model                                 \n",
       "============================================================================\n",
       "                 coef    std err          t      P>|t|      95.0% Conf. Int.\n",
       "----------------------------------------------------------------------------\n",
       "mu             0.0376  1.476e-02      2.549  1.081e-02 [8.693e-03,6.656e-02]\n",
       "                               Volatility Model                              \n",
       "=============================================================================\n",
       "                 coef    std err          t      P>|t|       95.0% Conf. Int.\n",
       "-----------------------------------------------------------------------------\n",
       "omega          0.0214  5.001e-03      4.281  1.861e-05  [1.161e-02,3.121e-02]\n",
       "alpha[1]       0.0152  8.442e-03      1.802  7.148e-02 [-1.330e-03,3.176e-02]\n",
       "gamma[1]       0.1265  2.024e-02      6.250  4.109e-10    [8.684e-02,  0.166]\n",
       "beta[1]        0.9100  1.107e-02     82.232      0.000      [  0.888,  0.932]\n",
       "=============================================================================\n",
       "\n",
       "Covariance estimator: robust\n",
       "ARCHModelResult, id: 0x10369d690"
      ]
     },
     "execution_count": 4,
     "metadata": {},
     "output_type": "execute_result"
    }
   ],
   "source": [
    "res = mod.fit(disp='off')\n",
    "res"
   ]
  },
  {
   "cell_type": "code",
   "execution_count": 5,
   "metadata": {},
   "outputs": [
    {
     "name": "stdout",
     "output_type": "stream",
     "text": [
      "                h.01      h.02      h.03      h.04      h.05      h.06  \\\n",
      "Date                                                                     \n",
      "2017-01-03  0.623295  0.637504  0.651549  0.665431  0.679154  0.692717   \n",
      "2017-01-04  0.599455  0.613940  0.628257  0.642408  0.656397  0.670223   \n",
      "2017-01-05  0.567297  0.582153  0.596837  0.611352  0.625699  0.639880   \n",
      "2017-01-06  0.542506  0.557649  0.572616  0.587410  0.602034  0.616488   \n",
      "2017-01-09  0.515452  0.530906  0.546183  0.561282  0.576208  0.590961   \n",
      "\n",
      "                h.07      h.08      h.09      h.10  \n",
      "Date                                                \n",
      "2017-01-03  0.706124  0.719376  0.732475  0.745423  \n",
      "2017-01-04  0.683890  0.697399  0.710752  0.723950  \n",
      "2017-01-05  0.653897  0.667753  0.681448  0.694985  \n",
      "2017-01-06  0.630776  0.644899  0.658858  0.672656  \n",
      "2017-01-09  0.605543  0.619957  0.634205  0.648288  \n"
     ]
    }
   ],
   "source": [
    "\n",
    "forecasts = res.forecast(start='1-1-2017', horizon=10)\n",
    "print(forecasts.residual_variance.dropna().head())"
   ]
  },
  {
   "cell_type": "code",
   "execution_count": 6,
   "metadata": {},
   "outputs": [
    {
     "name": "stdout",
     "output_type": "stream",
     "text": [
      "                h.01      h.02      h.03      h.04      h.05      h.06  \\\n",
      "Date                                                                     \n",
      "2017-01-03  0.623295  0.637251  0.647817  0.663746  0.673404  0.687952   \n",
      "2017-01-04  0.599455  0.617539  0.635838  0.649695  0.659733  0.667267   \n",
      "2017-01-05  0.567297  0.583415  0.597571  0.613065  0.621790  0.636180   \n",
      "2017-01-06  0.542506  0.555688  0.570280  0.585426  0.595551  0.608487   \n",
      "2017-01-09  0.515452  0.528771  0.542658  0.559684  0.580434  0.594855   \n",
      "\n",
      "                h.07      h.08      h.09      h.10  \n",
      "Date                                                \n",
      "2017-01-03  0.697221  0.707707  0.717701  0.729465  \n",
      "2017-01-04  0.686503  0.699708  0.707203  0.718560  \n",
      "2017-01-05  0.650287  0.663344  0.679835  0.692300  \n",
      "2017-01-06  0.619195  0.638180  0.653185  0.661366  \n",
      "2017-01-09  0.605136  0.621835  0.634091  0.653222  \n"
     ]
    }
   ],
   "source": [
    "sim_forecasts = res.forecast(start='1-1-2017', method='simulation', horizon=10)\n",
    "print(sim_forecasts.residual_variance.dropna().head())"
   ]
  },
  {
   "cell_type": "code",
   "execution_count": 7,
   "metadata": {},
   "outputs": [
    {
     "name": "stdout",
     "output_type": "stream",
     "text": [
      "                h.01      h.02      h.03      h.04      h.05      h.06  \\\n",
      "Date                                                                     \n",
      "2017-01-03  0.623295  0.685911  0.745202  0.821112  0.886289  0.966737   \n",
      "2017-01-04  0.599455  0.668181  0.743119  0.811486  0.877539  0.936587   \n",
      "2017-01-05  0.567297  0.629195  0.691225  0.758891  0.816663  0.893986   \n",
      "2017-01-06  0.542506  0.596301  0.656603  0.721505  0.778286  0.849680   \n",
      "2017-01-09  0.515452  0.567086  0.622224  0.689831  0.775048  0.845656   \n",
      "\n",
      "                h.07      h.08      h.09      h.10  \n",
      "Date                                                \n",
      "2017-01-03  0.970796  0.977504  0.982202  0.992547  \n",
      "2017-01-04  0.955295  0.965540  0.966432  0.974248  \n",
      "2017-01-05  0.905952  0.915208  0.930777  0.938636  \n",
      "2017-01-06  0.856175  0.873865  0.886221  0.890002  \n",
      "2017-01-09  0.851104  0.864591  0.874696  0.894397  \n"
     ]
    }
   ],
   "source": [
    "# Custom Random Generators\n",
    "import numpy as np\n",
    "random_state = np.random.RandomState(1)\n",
    "\n",
    "\n",
    "def scenario_rng(size):\n",
    "    shocks = random_state.standard_normal(size)\n",
    "    shocks[:, :5] *= np.sqrt(2)\n",
    "    return shocks\n",
    "\n",
    "\n",
    "scenario_forecasts = res.forecast(\n",
    "    start='1-1-2017', method='simulation', horizon=10, rng=scenario_rng)\n",
    "print(scenario_forecasts.residual_variance.dropna().head())"
   ]
  },
  {
   "cell_type": "code",
   "execution_count": null,
   "metadata": {},
   "outputs": [],
   "source": []
  }
 ],
 "metadata": {
  "kernelspec": {
   "display_name": "Python 3",
   "language": "python",
   "name": "python3"
  },
  "language_info": {
   "codemirror_mode": {
    "name": "ipython",
    "version": 3
   },
   "file_extension": ".py",
   "mimetype": "text/x-python",
   "name": "python",
   "nbconvert_exporter": "python",
   "pygments_lexer": "ipython3",
   "version": "3.7.7"
  }
 },
 "nbformat": 4,
 "nbformat_minor": 2
}
